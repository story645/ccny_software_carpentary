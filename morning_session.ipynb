{
 "cells": [
  {
   "cell_type": "code",
   "execution_count": 2,
   "metadata": {
    "collapsed": false
   },
   "outputs": [],
   "source": [
    "#load in the numpy library\n",
    "import numpy"
   ]
  },
  {
   "cell_type": "code",
   "execution_count": 3,
   "metadata": {
    "collapsed": false
   },
   "outputs": [],
   "source": [
    "#loadtxt is a function in the numpy library\n",
    "#since we don't know what it takes:\n",
    "numpy.loadtxt?\n",
    "#this opens a documentation window at the bottom"
   ]
  },
  {
   "cell_type": "code",
   "execution_count": 6,
   "metadata": {
    "collapsed": false
   },
   "outputs": [
    {
     "data": {
      "text/plain": [
       "array([[ 0.,  0.,  1., ...,  3.,  0.,  0.],\n",
       "       [ 0.,  1.,  2., ...,  1.,  0.,  1.],\n",
       "       [ 0.,  1.,  1., ...,  2.,  1.,  1.],\n",
       "       ..., \n",
       "       [ 0.,  1.,  1., ...,  1.,  1.,  1.],\n",
       "       [ 0.,  0.,  0., ...,  0.,  2.,  0.],\n",
       "       [ 0.,  0.,  1., ...,  1.,  1.,  0.]])"
      ]
     },
     "execution_count": 6,
     "metadata": {},
     "output_type": "execute_result"
    }
   ],
   "source": [
    "#loadtxt has one required parameter: filename\n",
    "#delimeter is an optional filename, but necessary for \n",
    "numpy.loadtxt(fname=\"python-novice-inflammation-data\\data\\inflammation-01.csv\", delimiter=',')"
   ]
  },
  {
   "cell_type": "code",
   "execution_count": 7,
   "metadata": {
    "collapsed": false
   },
   "outputs": [
    {
     "name": "stdout",
     "output_type": "stream",
     "text": [
      "94\n"
     ]
    }
   ],
   "source": [
    "#set the temperature variable\n",
    "temperature = 94\n",
    "print temperature"
   ]
  },
  {
   "cell_type": "code",
   "execution_count": 8,
   "metadata": {
    "collapsed": false
   },
   "outputs": [
    {
     "ename": "TypeError",
     "evalue": "cannot concatenate 'str' and 'int' objects",
     "output_type": "error",
     "traceback": [
      "\u001b[1;31m---------------------------------------------------------------------------\u001b[0m",
      "\u001b[1;31mTypeError\u001b[0m                                 Traceback (most recent call last)",
      "\u001b[1;32m<ipython-input-8-4c86586709c1>\u001b[0m in \u001b[0;36m<module>\u001b[1;34m()\u001b[0m\n\u001b[0;32m      1\u001b[0m \u001b[1;31m#combine with words\u001b[0m\u001b[1;33m\u001b[0m\u001b[1;33m\u001b[0m\u001b[0m\n\u001b[1;32m----> 2\u001b[1;33m \u001b[1;32mprint\u001b[0m \u001b[1;34m\"The high temperature today is: \"\u001b[0m \u001b[1;33m+\u001b[0m \u001b[0mtemperature\u001b[0m\u001b[1;33m\u001b[0m\u001b[0m\n\u001b[0m",
      "\u001b[1;31mTypeError\u001b[0m: cannot concatenate 'str' and 'int' objects"
     ]
    }
   ],
   "source": [
    "#combine with words\n",
    "print \"The high temperature today is: \" + temperature"
   ]
  },
  {
   "cell_type": "code",
   "execution_count": 9,
   "metadata": {
    "collapsed": false
   },
   "outputs": [
    {
     "name": "stdout",
     "output_type": "stream",
     "text": [
      "The high temperature today is: 94\n"
     ]
    }
   ],
   "source": [
    "#temperature is an integer and python is highly type sensitive, so convert temp\n",
    "print \"The high temperature today is: \" + str(temperature)"
   ]
  },
  {
   "cell_type": "code",
   "execution_count": 10,
   "metadata": {
    "collapsed": false
   },
   "outputs": [
    {
     "name": "stdout",
     "output_type": "stream",
     "text": [
      "The high temperature today is:  94\n",
      "94\n"
     ]
    }
   ],
   "source": [
    "#or just print them as sepertate items\n",
    "print \"The high temperature today is: \", temperature\n",
    "print temperature"
   ]
  },
  {
   "cell_type": "code",
   "execution_count": 11,
   "metadata": {
    "collapsed": true
   },
   "outputs": [],
   "source": [
    "#assign the thing loadtxt creates to the variable data\n",
    "data = numpy.loadtxt(fname=\"python-novice-inflammation-data\\data\\inflammation-01.csv\", delimiter=',')"
   ]
  },
  {
   "cell_type": "code",
   "execution_count": 12,
   "metadata": {
    "collapsed": false
   },
   "outputs": [
    {
     "name": "stdout",
     "output_type": "stream",
     "text": [
      "[[ 0.  0.  1. ...,  3.  0.  0.]\n",
      " [ 0.  1.  2. ...,  1.  0.  1.]\n",
      " [ 0.  1.  1. ...,  2.  1.  1.]\n",
      " ..., \n",
      " [ 0.  1.  1. ...,  1.  1.  1.]\n",
      " [ 0.  0.  0. ...,  0.  2.  0.]\n",
      " [ 0.  0.  1. ...,  1.  1.  0.]]\n",
      "<type 'numpy.ndarray'>\n",
      "(60L, 40L)\n"
     ]
    }
   ],
   "source": [
    "#what is data?\n",
    "print data\n",
    "print type(data)\n",
    "print data.shape"
   ]
  },
  {
   "cell_type": "code",
   "execution_count": 13,
   "metadata": {
    "collapsed": false
   },
   "outputs": [
    {
     "name": "stdout",
     "output_type": "stream",
     "text": [
      "0.0\n"
     ]
    }
   ],
   "source": [
    "#lets select data - indexing\n",
    "print data[59,39]\n",
    "#this is the value in the 60th row, 40th column\n",
    "#python indexes from 0"
   ]
  },
  {
   "cell_type": "code",
   "execution_count": 14,
   "metadata": {
    "collapsed": false
   },
   "outputs": [
    {
     "name": "stdout",
     "output_type": "stream",
     "text": [
      "[  0.   0.   1.   3.   1.   2.   4.   7.   8.   3.   3.   3.  10.   5.   7.\n",
      "   4.   7.   7.  12.  18.   6.  13.  11.  11.   7.   7.   4.   6.   8.   8.\n",
      "   4.   4.   5.   7.   3.   4.   2.   3.   0.   0.]\n"
     ]
    }
   ],
   "source": [
    "#print an entire row\n",
    "print data[0,]"
   ]
  },
  {
   "cell_type": "code",
   "execution_count": 15,
   "metadata": {
    "collapsed": false
   },
   "outputs": [
    {
     "name": "stdout",
     "output_type": "stream",
     "text": [
      "[[ 0.  0.  1. ...,  3.  2.  1.]\n",
      " [ 0.  0.  2. ...,  1.  1.  1.]\n",
      " [ 0.  0.  1. ...,  2.  2.  1.]\n",
      " ..., \n",
      " [ 0.  0.  1. ...,  3.  0.  1.]\n",
      " [ 0.  1.  1. ...,  2.  1.  1.]\n",
      " [ 0.  1.  1. ...,  1.  1.  1.]]\n"
     ]
    }
   ],
   "source": [
    "#index backwards\n",
    "print data[5:-2]\n",
    "#goes from 6th row to 2nd to last row"
   ]
  },
  {
   "cell_type": "code",
   "execution_count": 16,
   "metadata": {
    "collapsed": false
   },
   "outputs": [
    {
     "name": "stdout",
     "output_type": "stream",
     "text": [
      "[[ 4.  2.  3.  0.  0.]\n",
      " [ 5.  1.  1.  0.  1.]\n",
      " [ 3.  2.  2.  1.  1.]]\n"
     ]
    }
   ],
   "source": [
    "#subset the data\n",
    "small_data = data[:3, 35:]\n",
    "print small_data\n",
    "#: means take everything before or after"
   ]
  },
  {
   "cell_type": "code",
   "execution_count": 17,
   "metadata": {
    "collapsed": false
   },
   "outputs": [
    {
     "name": "stdout",
     "output_type": "stream",
     "text": [
      "0.0\n",
      "20.0\n",
      "4.61383319712\n"
     ]
    }
   ],
   "source": [
    "print data.min()\n",
    "print data.max()\n",
    "print data.std()"
   ]
  },
  {
   "cell_type": "code",
   "execution_count": 18,
   "metadata": {
    "collapsed": false
   },
   "outputs": [
    {
     "name": "stdout",
     "output_type": "stream",
     "text": [
      "18.0\n",
      "0.0\n",
      "3.8983971065\n"
     ]
    }
   ],
   "source": [
    "patient_0 = data[0]\n",
    "print patient_0.max()\n",
    "print patient_0.min()\n",
    "print patient_0.std()"
   ]
  },
  {
   "cell_type": "code",
   "execution_count": 19,
   "metadata": {
    "collapsed": false
   },
   "outputs": [
    {
     "name": "stdout",
     "output_type": "stream",
     "text": [
      "(60L,)\n"
     ]
    }
   ],
   "source": [
    "#axis means the dimension\n",
    "#numpy convention = 0- row, 1-column, 2-depth...\n",
    "print data.mean(axis=1).shape"
   ]
  },
  {
   "cell_type": "code",
   "execution_count": 20,
   "metadata": {
    "collapsed": false
   },
   "outputs": [
    {
     "name": "stdout",
     "output_type": "stream",
     "text": [
      "[ 3.89839711  4.32369923  4.7581509   4.2708313   4.05555175  4.74071461\n",
      "  4.20409027  5.2179977   4.61349921  5.05958249  5.03233296  4.31972221\n",
      "  4.23961968  4.42012443  4.22780972  4.48441746  4.87314067  4.69680743\n",
      "  4.42464688  5.09386886  4.86049123  3.99929681  4.80045571  4.59782557\n",
      "  4.74447047  4.66308642  5.03959324  4.69301342  4.80045571  5.0593972\n",
      "  4.34101083  4.48079234  4.31849221  4.20230591  5.54701496  4.47765284\n",
      "  4.08281459  4.98773496  4.9415964   4.63546114  4.66094143  4.53865343\n",
      "  4.49555336  4.50444225  4.46514277  3.86902766  5.37348816  4.53072842\n",
      "  4.15301096  4.80097646  3.81575681  4.94873721  4.67379664  4.0895446\n",
      "  5.02487562  4.00749298  4.84639041  4.47660586  4.71142229  4.54312668]\n"
     ]
    }
   ],
   "source": [
    "#std is called a method because it works on the data object\n",
    "print data.std(axis=1)"
   ]
  },
  {
   "cell_type": "code",
   "execution_count": 23,
   "metadata": {
    "collapsed": false
   },
   "outputs": [
    {
     "name": "stdout",
     "output_type": "stream",
     "text": [
      "float64\n",
      "<type 'numpy.ndarray'>\n"
     ]
    }
   ],
   "source": [
    "print data.dtype #data type of the individual values\n",
    "print type(data) # data type of entire array\n"
   ]
  },
  {
   "cell_type": "code",
   "execution_count": 24,
   "metadata": {
    "collapsed": false
   },
   "outputs": [
    {
     "name": "stdout",
     "output_type": "stream",
     "text": [
      "<type 'str'>\n"
     ]
    },
    {
     "ename": "AttributeError",
     "evalue": "'str' object has no attribute 'dtype'",
     "output_type": "error",
     "traceback": [
      "\u001b[1;31m---------------------------------------------------------------------------\u001b[0m",
      "\u001b[1;31mAttributeError\u001b[0m                            Traceback (most recent call last)",
      "\u001b[1;32m<ipython-input-24-daebb39e5939>\u001b[0m in \u001b[0;36m<module>\u001b[1;34m()\u001b[0m\n\u001b[0;32m      1\u001b[0m \u001b[0mword\u001b[0m \u001b[1;33m=\u001b[0m \u001b[1;34m\"software\"\u001b[0m\u001b[1;33m\u001b[0m\u001b[0m\n\u001b[0;32m      2\u001b[0m \u001b[1;32mprint\u001b[0m \u001b[0mtype\u001b[0m\u001b[1;33m(\u001b[0m\u001b[0mword\u001b[0m\u001b[1;33m)\u001b[0m \u001b[1;31m#type is a function native to python (built in function)\u001b[0m\u001b[1;33m\u001b[0m\u001b[0m\n\u001b[1;32m----> 3\u001b[1;33m \u001b[1;32mprint\u001b[0m \u001b[0mword\u001b[0m\u001b[1;33m.\u001b[0m\u001b[0mdtype\u001b[0m \u001b[1;31m#this doesn't work because dtype is specific to numpy arrays\u001b[0m\u001b[1;33m\u001b[0m\u001b[0m\n\u001b[0m",
      "\u001b[1;31mAttributeError\u001b[0m: 'str' object has no attribute 'dtype'"
     ]
    }
   ],
   "source": [
    "word = \"software\"\n",
    "print type(word) #type is a function native to python (built in function)\n",
    "print word.dtype #this doesn't work because dtype is specific to numpy arrays"
   ]
  },
  {
   "cell_type": "code",
   "execution_count": null,
   "metadata": {
    "collapsed": true
   },
   "outputs": [],
   "source": []
  },
  {
   "cell_type": "code",
   "execution_count": null,
   "metadata": {
    "collapsed": true
   },
   "outputs": [],
   "source": []
  }
 ],
 "metadata": {
  "kernelspec": {
   "display_name": "Python 2",
   "language": "python",
   "name": "python2"
  },
  "language_info": {
   "codemirror_mode": {
    "name": "ipython",
    "version": 2
   },
   "file_extension": ".py",
   "mimetype": "text/x-python",
   "name": "python",
   "nbconvert_exporter": "python",
   "pygments_lexer": "ipython2",
   "version": "2.7.10"
  }
 },
 "nbformat": 4,
 "nbformat_minor": 0
}
